{
 "cells": [
  {
   "cell_type": "code",
   "execution_count": 5,
   "metadata": {},
   "outputs": [],
   "source": [
    "import os\n",
    "import json\n",
    "import traceback\n",
    "import pandas as pd"
   ]
  },
  {
   "cell_type": "code",
   "execution_count": 9,
   "metadata": {},
   "outputs": [],
   "source": [
    "from langchain_openai import ChatOpenAI"
   ]
  },
  {
   "cell_type": "code",
   "execution_count": 12,
   "metadata": {},
   "outputs": [
    {
     "data": {
      "text/plain": [
       "True"
      ]
     },
     "execution_count": 12,
     "metadata": {},
     "output_type": "execute_result"
    }
   ],
   "source": [
    "from dotenv import load_dotenv\n",
    "load_dotenv()"
   ]
  },
  {
   "cell_type": "code",
   "execution_count": 13,
   "metadata": {},
   "outputs": [],
   "source": [
    "KEY=os.getenv(\"OPENAI_API_KEY\")"
   ]
  },
  {
   "cell_type": "code",
   "execution_count": 15,
   "metadata": {},
   "outputs": [],
   "source": [
    "llm=ChatOpenAI(openai_api_key=KEY, model_name='gpt-4o-mini', temperature=0.5)"
   ]
  },
  {
   "cell_type": "code",
   "execution_count": 16,
   "metadata": {},
   "outputs": [
    {
     "data": {
      "text/plain": [
       "ChatOpenAI(client=<openai.resources.chat.completions.Completions object at 0x12212e090>, async_client=<openai.resources.chat.completions.AsyncCompletions object at 0x12212f9e0>, root_client=<openai.OpenAI object at 0x12193dac0>, root_async_client=<openai.AsyncOpenAI object at 0x11611bbf0>, model_name='gpt-4o-mini', temperature=0.5, model_kwargs={}, openai_api_key=SecretStr('**********'))"
      ]
     },
     "execution_count": 16,
     "metadata": {},
     "output_type": "execute_result"
    }
   ],
   "source": [
    "llm"
   ]
  },
  {
   "cell_type": "code",
   "execution_count": 18,
   "metadata": {},
   "outputs": [],
   "source": [
    "from langchain_openai import OpenAI\n",
    "from langchain.prompts import PromptTemplate\n",
    "from langchain.chains import LLMChain\n",
    "from langchain.chains import SequentialChain\n",
    "from langchain.callbacks import get_openai_callback\n",
    "import PyPDF2"
   ]
  },
  {
   "cell_type": "code",
   "execution_count": 20,
   "metadata": {},
   "outputs": [],
   "source": [
    "TEMPLATE=\"\"\"\n",
    "Text:{text}\n",
    "You are an expert MCQ maker. Given the above text, it is your job to \\\n",
    "create a quiz of {number} multiple choice questions for {subject} students in {tone} tone.\n",
    "Make sure the questions are not repeated and check all the questions to be conforming the text as well.\n",
    "Make sure to format your response like RESPONSE_JSON below and use it as a guide. \\\n",
    "Ensure to make {number} MCQs.\n",
    "### RESPONSE_JSON\n",
    "{response_json}\n",
    "\n",
    "\"\"\""
   ]
  },
  {
   "cell_type": "code",
   "execution_count": 21,
   "metadata": {},
   "outputs": [],
   "source": [
    "RESPONSE_JSON = {\n",
    "    \"1\": {\n",
    "        \"mcq\": \"multiple choice question\",\n",
    "        \"options\": {\n",
    "            \"a\": \"choice here\",\n",
    "            \"b\": \"choice here\",\n",
    "            \"c\": \"choice here\",\n",
    "            \"d\": \"choice here\",\n",
    "        },\n",
    "        \"correct\": \"correct answer\",\n",
    "    },\n",
    "    \"2\": {\n",
    "        \"mcq\": \"multiple choice question\",\n",
    "        \"options\": {\n",
    "            \"a\": \"choice here\",\n",
    "            \"b\": \"choice here\",\n",
    "            \"c\": \"choice here\",\n",
    "            \"d\": \"choice here\",\n",
    "        },\n",
    "        \"correct\": \"correct answer\",\n",
    "    },\n",
    "    \"3\": {\n",
    "        \"mcq\": \"multiple choice question\",\n",
    "        \"options\": {\n",
    "            \"a\": \"choice here\",\n",
    "            \"b\": \"choice here\",\n",
    "            \"c\": \"choice here\",\n",
    "            \"d\": \"choice here\",\n",
    "        },\n",
    "        \"correct\": \"correct answer\",\n",
    "    },\n",
    "}"
   ]
  },
  {
   "cell_type": "code",
   "execution_count": 22,
   "metadata": {},
   "outputs": [],
   "source": [
    "quiz_generation_prompt = PromptTemplate(\n",
    "    input_variables=[\"text\", \"number\", \"subject\", \"tone\", \"response_json\"],\n",
    "    template=TEMPLATE\n",
    ")"
   ]
  },
  {
   "cell_type": "code",
   "execution_count": 24,
   "metadata": {},
   "outputs": [],
   "source": [
    "quiz_chain=LLMChain(llm=llm, prompt=quiz_generation_prompt, output_key=\"quiz\", verbose=True)"
   ]
  },
  {
   "cell_type": "code",
   "execution_count": 25,
   "metadata": {},
   "outputs": [],
   "source": [
    "TEMPLATE2=\"\"\"\n",
    "You are an expert english grammarian and writer. Given a Multiple Choice Quiz for {subject} students.\\\n",
    "You need to evaluate the complexity of the questions and give a complete analysis of the quiz. Only use at max 50 words for complexity\\\n",
    "if the quiz is not at per with the cognitive and analytical abilities of the students,\\\n",
    "update the quiz questions which needs to be changed and change the tone such that is perfectly fits the students abilities.\n",
    "Quiz_MCQs:\n",
    "{quiz}\n",
    "\n",
    "Check from an expert English writer of the above quiz:\n",
    "\"\"\""
   ]
  },
  {
   "cell_type": "code",
   "execution_count": 26,
   "metadata": {},
   "outputs": [],
   "source": [
    "quiz_evaluation_prompt=PromptTemplate(input_variables=[\"subject\", 'quiz'], template=TEMPLATE2)"
   ]
  },
  {
   "cell_type": "code",
   "execution_count": 27,
   "metadata": {},
   "outputs": [],
   "source": [
    "review_chain=LLMChain(llm=llm, prompt=quiz_evaluation_prompt, output_key=\"review\", verbose=True)"
   ]
  },
  {
   "cell_type": "code",
   "execution_count": 30,
   "metadata": {},
   "outputs": [],
   "source": [
    "generate_evaluate_chain=SequentialChain(\n",
    "    chains=[quiz_chain, review_chain], \n",
    "    input_variables=[\"text\", \"number\", \"subject\", \"tone\", \"response_json\"],\n",
    "    output_variables=[\"quiz\", \"review\"],\n",
    "    verbose=True,\n",
    ")"
   ]
  },
  {
   "cell_type": "code",
   "execution_count": 31,
   "metadata": {},
   "outputs": [],
   "source": [
    "file_path=r\"/Users/predrag/Coding/mcqgen/data.txt\""
   ]
  },
  {
   "cell_type": "code",
   "execution_count": 32,
   "metadata": {},
   "outputs": [
    {
     "data": {
      "text/plain": [
       "'/Users/predrag/Coding/mcqgen/data.txt'"
      ]
     },
     "execution_count": 32,
     "metadata": {},
     "output_type": "execute_result"
    }
   ],
   "source": [
    "file_path"
   ]
  },
  {
   "cell_type": "code",
   "execution_count": 33,
   "metadata": {},
   "outputs": [],
   "source": [
    "with open(file_path, 'r') as file:\n",
    "    TEXT = file.read()"
   ]
  },
  {
   "cell_type": "code",
   "execution_count": 35,
   "metadata": {},
   "outputs": [
    {
     "name": "stdout",
     "output_type": "stream",
     "text": [
      "Srbija, zvanično Republika Srbija, država je na raskrsnici puteva srednje i jugoistočne Evrope u južnom delu Panonske nizije i središtu Balkanskog poluostrva.[5][6] Većim delom zahvata Balkansko poluostrvo, a manjim Panonsku niziju.[7] Srbija se na severu graniči sa Mađarskom, na severoistoku sa Rumunijom, na istoku sa Bugarskom, na jugu sa Severnom Makedonijom, na jugozapadu sa Albanijom i Crnom Gorom, a na zapadu sa Bosnom i Hercegovinom (entitetom Republika Srpska) i Hrvatskom. Broji oko osam miliona stanovnika.[8] Glavni i najveći grad je Beograd, koji spada među najstarije i najveće gradove u jugoistočnoj Evropi.[6][9] Zvanični jezik je srpski, a zvanična valuta srpski dinar.\n",
      "\n",
      "Nakon slovenskog doseljavanja na Balkan (tokom 6. i 7. veka), Srbi su u ranom srednjem veku osnovali nekoliko država. Srednjovekovna Srbija je 1217. postala kraljevina, a vrhunac je dostigla 1346. proglašenjem carstva. Nakon turske najezde, Srpska despotovina je opstala do 1459, kada je potpala pod vlast Osmanskog carstva.[10] Do sredine 16. veka, celokupno područje današnje Srbije potpalo je pod osmansku vlast. Krajem 17. i početkom 18. veka, Habzburška monarhija je potisnula tursku vlast iz Bačke, Srema i Banata, a privremeno i iz centralne Srbije. Početkom 19. veka, Srpska revolucija uspostavila je nacionalnu državu kao prvu ustavnu monarhiju u regionu, koja je 1878. stekla državnu nezavisnost, a 1882. postala kraljevina. Oslobođenje Stare Srbije (Raška, Kosovo i Metohija) ostvareno je 1912.[11]\n",
      "\n",
      "Srbija je, nakon katastrofalnih ljudskih i materijalnih gubitaka u Prvom svetskom ratu i ujedinjenja sa bivšom Habzburškom krunovinom Vojvodinom (i drugim teritorijama), postala suosnivač i sastavni deo zajedničke države sa većinom Južnih Slovena prvobitno u Kraljevini Srba, Hrvata i Slovenaca, (kasnije preimenovanoj u Kraljevinu Jugoslaviju), zatim u Socijalističkoj Federativnoj Republici Jugoslaviji, Saveznoj Republici Jugoslaviji i Državnoj zajednici Srbiji i Crnoj Gori. Godine 2006, posle održanog referenduma u Crnoj Gori, narodi su se mirno razišli i Državna zajednica je prestala da postoji, a Srbija je, na osnovu Ustavne povelje, nastavila državno-pravni kontinuitet sa Srbijom i Crnom Gorom.\n",
      "\n",
      "U sastavu Srbije su i dve autonomne pokrajine: Vojvodina i Kosovo i Metohija.[12] Od NATO bombardovanja Jugoslavije, Kosovo i Metohija se nalaze pod protektoratom Ujedinjenih nacija. Privremene institucije samouprave na Kosovu i Metohiji, na kojem Albanci čine etničku većinu, 17. februara 2008. jednostrano i protivpravno (protivno Ustavu Srbije iz 2006. i Rezoluciji Saveta bezbednosti UN 1244) proglasile su nezavisnost, koju Srbija, mnoge druge države i Ujedinjene nacije ne priznaju.\n",
      "\n",
      "\n"
     ]
    }
   ],
   "source": [
    "print(TEXT)"
   ]
  },
  {
   "cell_type": "code",
   "execution_count": 36,
   "metadata": {},
   "outputs": [
    {
     "data": {
      "text/plain": [
       "'{\"1\": {\"mcq\": \"multiple choice question\", \"options\": {\"a\": \"choice here\", \"b\": \"choice here\", \"c\": \"choice here\", \"d\": \"choice here\"}, \"correct\": \"correct answer\"}, \"2\": {\"mcq\": \"multiple choice question\", \"options\": {\"a\": \"choice here\", \"b\": \"choice here\", \"c\": \"choice here\", \"d\": \"choice here\"}, \"correct\": \"correct answer\"}, \"3\": {\"mcq\": \"multiple choice question\", \"options\": {\"a\": \"choice here\", \"b\": \"choice here\", \"c\": \"choice here\", \"d\": \"choice here\"}, \"correct\": \"correct answer\"}}'"
      ]
     },
     "execution_count": 36,
     "metadata": {},
     "output_type": "execute_result"
    }
   ],
   "source": [
    "# Serialize the Python dictionary into a JSON-formatted string\n",
    "json.dumps(RESPONSE_JSON)"
   ]
  },
  {
   "cell_type": "code",
   "execution_count": 37,
   "metadata": {},
   "outputs": [],
   "source": [
    "NUMBER=5\n",
    "SUBJECT=\"Republika Srbija\"\n",
    "TONE=\"simple\""
   ]
  },
  {
   "cell_type": "code",
   "execution_count": 38,
   "metadata": {},
   "outputs": [
    {
     "name": "stderr",
     "output_type": "stream",
     "text": [
      "/var/folders/2m/c8pbt6811fx3v6t456w7r3cr0000gn/T/ipykernel_18184/1135891503.py:5: LangChainDeprecationWarning: The method `Chain.__call__` was deprecated in langchain 0.1.0 and will be removed in 1.0. Use :meth:`~invoke` instead.\n",
      "  response=generate_evaluate_chain(\n"
     ]
    },
    {
     "name": "stdout",
     "output_type": "stream",
     "text": [
      "\n",
      "\n",
      "\u001b[1m> Entering new SequentialChain chain...\u001b[0m\n",
      "\n",
      "\n",
      "\u001b[1m> Entering new LLMChain chain...\u001b[0m\n",
      "Prompt after formatting:\n",
      "\u001b[32;1m\u001b[1;3m\n",
      "Text:Srbija, zvanično Republika Srbija, država je na raskrsnici puteva srednje i jugoistočne Evrope u južnom delu Panonske nizije i središtu Balkanskog poluostrva.[5][6] Većim delom zahvata Balkansko poluostrvo, a manjim Panonsku niziju.[7] Srbija se na severu graniči sa Mađarskom, na severoistoku sa Rumunijom, na istoku sa Bugarskom, na jugu sa Severnom Makedonijom, na jugozapadu sa Albanijom i Crnom Gorom, a na zapadu sa Bosnom i Hercegovinom (entitetom Republika Srpska) i Hrvatskom. Broji oko osam miliona stanovnika.[8] Glavni i najveći grad je Beograd, koji spada među najstarije i najveće gradove u jugoistočnoj Evropi.[6][9] Zvanični jezik je srpski, a zvanična valuta srpski dinar.\n",
      "\n",
      "Nakon slovenskog doseljavanja na Balkan (tokom 6. i 7. veka), Srbi su u ranom srednjem veku osnovali nekoliko država. Srednjovekovna Srbija je 1217. postala kraljevina, a vrhunac je dostigla 1346. proglašenjem carstva. Nakon turske najezde, Srpska despotovina je opstala do 1459, kada je potpala pod vlast Osmanskog carstva.[10] Do sredine 16. veka, celokupno područje današnje Srbije potpalo je pod osmansku vlast. Krajem 17. i početkom 18. veka, Habzburška monarhija je potisnula tursku vlast iz Bačke, Srema i Banata, a privremeno i iz centralne Srbije. Početkom 19. veka, Srpska revolucija uspostavila je nacionalnu državu kao prvu ustavnu monarhiju u regionu, koja je 1878. stekla državnu nezavisnost, a 1882. postala kraljevina. Oslobođenje Stare Srbije (Raška, Kosovo i Metohija) ostvareno je 1912.[11]\n",
      "\n",
      "Srbija je, nakon katastrofalnih ljudskih i materijalnih gubitaka u Prvom svetskom ratu i ujedinjenja sa bivšom Habzburškom krunovinom Vojvodinom (i drugim teritorijama), postala suosnivač i sastavni deo zajedničke države sa većinom Južnih Slovena prvobitno u Kraljevini Srba, Hrvata i Slovenaca, (kasnije preimenovanoj u Kraljevinu Jugoslaviju), zatim u Socijalističkoj Federativnoj Republici Jugoslaviji, Saveznoj Republici Jugoslaviji i Državnoj zajednici Srbiji i Crnoj Gori. Godine 2006, posle održanog referenduma u Crnoj Gori, narodi su se mirno razišli i Državna zajednica je prestala da postoji, a Srbija je, na osnovu Ustavne povelje, nastavila državno-pravni kontinuitet sa Srbijom i Crnom Gorom.\n",
      "\n",
      "U sastavu Srbije su i dve autonomne pokrajine: Vojvodina i Kosovo i Metohija.[12] Od NATO bombardovanja Jugoslavije, Kosovo i Metohija se nalaze pod protektoratom Ujedinjenih nacija. Privremene institucije samouprave na Kosovu i Metohiji, na kojem Albanci čine etničku većinu, 17. februara 2008. jednostrano i protivpravno (protivno Ustavu Srbije iz 2006. i Rezoluciji Saveta bezbednosti UN 1244) proglasile su nezavisnost, koju Srbija, mnoge druge države i Ujedinjene nacije ne priznaju.\n",
      "\n",
      "\n",
      "You are an expert MCQ maker. Given the above text, it is your job to create a quiz of 5 multiple choice questions for Republika Srbija students in simple tone.\n",
      "Make sure the questions are not repeated and check all the questions to be conforming the text as well.\n",
      "Make sure to format your response like RESPONSE_JSON below and use it as a guide. Ensure to make 5 MCQs.\n",
      "### RESPONSE_JSON\n",
      "{\"1\": {\"mcq\": \"multiple choice question\", \"options\": {\"a\": \"choice here\", \"b\": \"choice here\", \"c\": \"choice here\", \"d\": \"choice here\"}, \"correct\": \"correct answer\"}, \"2\": {\"mcq\": \"multiple choice question\", \"options\": {\"a\": \"choice here\", \"b\": \"choice here\", \"c\": \"choice here\", \"d\": \"choice here\"}, \"correct\": \"correct answer\"}, \"3\": {\"mcq\": \"multiple choice question\", \"options\": {\"a\": \"choice here\", \"b\": \"choice here\", \"c\": \"choice here\", \"d\": \"choice here\"}, \"correct\": \"correct answer\"}}\n",
      "\n",
      "\u001b[0m\n",
      "\n",
      "\u001b[1m> Finished chain.\u001b[0m\n",
      "\n",
      "\n",
      "\u001b[1m> Entering new LLMChain chain...\u001b[0m\n",
      "Prompt after formatting:\n",
      "\u001b[32;1m\u001b[1;3m\n",
      "You are an expert english grammarian and writer. Given a Multiple Choice Quiz for Republika Srbija students.You need to evaluate the complexity of the questions and give a complete analysis of the quiz. Only use at max 50 words for complexityif the quiz is not at per with the cognitive and analytical abilities of the students,update the quiz questions which needs to be changed and change the tone such that is perfectly fits the students abilities.\n",
      "Quiz_MCQs:\n",
      "{\"1\": {\"mcq\": \"Koji je glavni grad Srbije?\", \"options\": {\"a\": \"Novi Sad\", \"b\": \"Beograd\", \"c\": \"Niš\", \"d\": \"Kragujevac\"}, \"correct\": \"b\"}, \"2\": {\"mcq\": \"Koji je zvanični jezik u Srbiji?\", \"options\": {\"a\": \"hrvatski\", \"b\": \"mađarski\", \"c\": \"srpski\", \"d\": \"engleski\"}, \"correct\": \"c\"}, \"3\": {\"mcq\": \"Koje dve autonomne pokrajine se nalaze u sastavu Srbije?\", \"options\": {\"a\": \"Vojvodina i Kosovo\", \"b\": \"Vojvodina i Raška\", \"c\": \"Kosovo i Metohija\", \"d\": \"Kosovo i Sandžak\"}, \"correct\": \"a\"}, \"4\": {\"mcq\": \"Kada je Srbija postala kraljevina?\", \"options\": {\"a\": \"1217\", \"b\": \"1346\", \"c\": \"1878\", \"d\": \"1882\"}, \"correct\": \"a\"}, \"5\": {\"mcq\": \"Koja je valuta u Srbiji?\", \"options\": {\"a\": \"evro\", \"b\": \"dinara\", \"c\": \"dolar\", \"d\": \"forinta\"}, \"correct\": \"b\"}}\n",
      "\n",
      "Check from an expert English writer of the above quiz:\n",
      "\u001b[0m\n",
      "\n",
      "\u001b[1m> Finished chain.\u001b[0m\n",
      "\n",
      "\u001b[1m> Finished chain.\u001b[0m\n"
     ]
    }
   ],
   "source": [
    "# https://python.langchain.com/v0.1/docs/modules/model_io/llms/token_usage_tracking/\n",
    "\n",
    "# How to setup Token Usage Tracking in LangChain\n",
    "with get_openai_callback() as cb:\n",
    "    response=generate_evaluate_chain(\n",
    "        {\n",
    "            \"text\": TEXT,\n",
    "            \"number\": NUMBER,\n",
    "            \"subject\": SUBJECT,\n",
    "            \"tone\": TONE,\n",
    "            \"response_json\": json.dumps(RESPONSE_JSON)\n",
    "        }\n",
    "    )"
   ]
  },
  {
   "cell_type": "code",
   "execution_count": 39,
   "metadata": {},
   "outputs": [
    {
     "name": "stdout",
     "output_type": "stream",
     "text": [
      "Total Tokens:2173\n",
      "Prompt Tokens:1545\n",
      "Completion Tokens:628\n",
      "Total Cost:0.00060855\n"
     ]
    }
   ],
   "source": [
    "print(f\"Total Tokens:{cb.total_tokens}\")\n",
    "print(f\"Prompt Tokens:{cb.prompt_tokens}\")\n",
    "print(f\"Completion Tokens:{cb.completion_tokens}\")\n",
    "print(f\"Total Cost:{cb.total_cost}\")"
   ]
  },
  {
   "cell_type": "code",
   "execution_count": 40,
   "metadata": {},
   "outputs": [
    {
     "data": {
      "text/plain": [
       "{'text': 'Srbija, zvanično Republika Srbija, država je na raskrsnici puteva srednje i jugoistočne Evrope u južnom delu Panonske nizije i središtu Balkanskog poluostrva.[5][6] Većim delom zahvata Balkansko poluostrvo, a manjim Panonsku niziju.[7] Srbija se na severu graniči sa Mađarskom, na severoistoku sa Rumunijom, na istoku sa Bugarskom, na jugu sa Severnom Makedonijom, na jugozapadu sa Albanijom i Crnom Gorom, a na zapadu sa Bosnom i Hercegovinom (entitetom Republika Srpska) i Hrvatskom. Broji oko osam miliona stanovnika.[8] Glavni i najveći grad je Beograd, koji spada među najstarije i najveće gradove u jugoistočnoj Evropi.[6][9] Zvanični jezik je srpski, a zvanična valuta srpski dinar.\\n\\nNakon slovenskog doseljavanja na Balkan (tokom 6. i 7. veka), Srbi su u ranom srednjem veku osnovali nekoliko država. Srednjovekovna Srbija je 1217. postala kraljevina, a vrhunac je dostigla 1346. proglašenjem carstva. Nakon turske najezde, Srpska despotovina je opstala do 1459, kada je potpala pod vlast Osmanskog carstva.[10] Do sredine 16. veka, celokupno područje današnje Srbije potpalo je pod osmansku vlast. Krajem 17. i početkom 18. veka, Habzburška monarhija je potisnula tursku vlast iz Bačke, Srema i Banata, a privremeno i iz centralne Srbije. Početkom 19. veka, Srpska revolucija uspostavila je nacionalnu državu kao prvu ustavnu monarhiju u regionu, koja je 1878. stekla državnu nezavisnost, a 1882. postala kraljevina. Oslobođenje Stare Srbije (Raška, Kosovo i Metohija) ostvareno je 1912.[11]\\n\\nSrbija je, nakon katastrofalnih ljudskih i materijalnih gubitaka u Prvom svetskom ratu i ujedinjenja sa bivšom Habzburškom krunovinom Vojvodinom (i drugim teritorijama), postala suosnivač i sastavni deo zajedničke države sa većinom Južnih Slovena prvobitno u Kraljevini Srba, Hrvata i Slovenaca, (kasnije preimenovanoj u Kraljevinu Jugoslaviju), zatim u Socijalističkoj Federativnoj Republici Jugoslaviji, Saveznoj Republici Jugoslaviji i Državnoj zajednici Srbiji i Crnoj Gori. Godine 2006, posle održanog referenduma u Crnoj Gori, narodi su se mirno razišli i Državna zajednica je prestala da postoji, a Srbija je, na osnovu Ustavne povelje, nastavila državno-pravni kontinuitet sa Srbijom i Crnom Gorom.\\n\\nU sastavu Srbije su i dve autonomne pokrajine: Vojvodina i Kosovo i Metohija.[12] Od NATO bombardovanja Jugoslavije, Kosovo i Metohija se nalaze pod protektoratom Ujedinjenih nacija. Privremene institucije samouprave na Kosovu i Metohiji, na kojem Albanci čine etničku većinu, 17. februara 2008. jednostrano i protivpravno (protivno Ustavu Srbije iz 2006. i Rezoluciji Saveta bezbednosti UN 1244) proglasile su nezavisnost, koju Srbija, mnoge druge države i Ujedinjene nacije ne priznaju.\\n\\n',\n",
       " 'number': 5,\n",
       " 'subject': 'Republika Srbija',\n",
       " 'tone': 'simple',\n",
       " 'response_json': '{\"1\": {\"mcq\": \"multiple choice question\", \"options\": {\"a\": \"choice here\", \"b\": \"choice here\", \"c\": \"choice here\", \"d\": \"choice here\"}, \"correct\": \"correct answer\"}, \"2\": {\"mcq\": \"multiple choice question\", \"options\": {\"a\": \"choice here\", \"b\": \"choice here\", \"c\": \"choice here\", \"d\": \"choice here\"}, \"correct\": \"correct answer\"}, \"3\": {\"mcq\": \"multiple choice question\", \"options\": {\"a\": \"choice here\", \"b\": \"choice here\", \"c\": \"choice here\", \"d\": \"choice here\"}, \"correct\": \"correct answer\"}}',\n",
       " 'quiz': '{\"1\": {\"mcq\": \"Koji je glavni grad Srbije?\", \"options\": {\"a\": \"Novi Sad\", \"b\": \"Beograd\", \"c\": \"Niš\", \"d\": \"Kragujevac\"}, \"correct\": \"b\"}, \"2\": {\"mcq\": \"Koji je zvanični jezik u Srbiji?\", \"options\": {\"a\": \"hrvatski\", \"b\": \"mađarski\", \"c\": \"srpski\", \"d\": \"engleski\"}, \"correct\": \"c\"}, \"3\": {\"mcq\": \"Koje dve autonomne pokrajine se nalaze u sastavu Srbije?\", \"options\": {\"a\": \"Vojvodina i Kosovo\", \"b\": \"Vojvodina i Raška\", \"c\": \"Kosovo i Metohija\", \"d\": \"Kosovo i Sandžak\"}, \"correct\": \"a\"}, \"4\": {\"mcq\": \"Kada je Srbija postala kraljevina?\", \"options\": {\"a\": \"1217\", \"b\": \"1346\", \"c\": \"1878\", \"d\": \"1882\"}, \"correct\": \"a\"}, \"5\": {\"mcq\": \"Koja je valuta u Srbiji?\", \"options\": {\"a\": \"evro\", \"b\": \"dinara\", \"c\": \"dolar\", \"d\": \"forinta\"}, \"correct\": \"b\"}}',\n",
       " 'review': '**Complexity Analysis:**\\n\\nThe quiz questions are straightforward, focusing on basic factual knowledge about Serbia. They are suitable for students with foundational knowledge of their country. However, questions 3 and 4 require more analytical thinking and historical knowledge, which might be challenging for some students.\\n\\n**Revised Questions:**\\n\\n1. **Original:** Koji je glavni grad Srbije?  \\n   **Revised:** Koji grad je glavni grad Srbije?  \\n   **Rationale:** Simplified wording for clarity.\\n\\n2. **Original:** Koji je zvanični jezik u Srbiji?  \\n   **Revised:** Koji je jezik koji se koristi u zvaničnim dokumentima Srbije?  \\n   **Rationale:** Added context to promote understanding.\\n\\n3. **Original:** Koje dve autonomne pokrajine se nalaze u sastavu Srbije?  \\n   **Revised:** Koje su to dve pokrajine u Srbiji koje imaju posebne ovlasti?  \\n   **Rationale:** Simplified phrasing to enhance comprehension.\\n\\n4. **Original:** Kada je Srbija postala kraljevina?  \\n   **Revised:** U kojem veku je Srbija postala kraljevina?  \\n   **Rationale:** Reduced complexity by asking for a broader timeframe.\\n\\n5. **Original:** Koja je valuta u Srbiji?  \\n   **Revised:** Koja novčanica se koristi u Srbiji?  \\n   **Rationale:** Different phrasing to clarify the question.\\n\\nOverall, the quiz is appropriate for students, but minor adjustments enhance clarity and comprehension.'}"
      ]
     },
     "execution_count": 40,
     "metadata": {},
     "output_type": "execute_result"
    }
   ],
   "source": [
    "response"
   ]
  },
  {
   "cell_type": "code",
   "execution_count": 42,
   "metadata": {},
   "outputs": [],
   "source": [
    "quiz=response.get(\"quiz\")"
   ]
  },
  {
   "cell_type": "code",
   "execution_count": 44,
   "metadata": {},
   "outputs": [],
   "source": [
    "quiz=json.loads(quiz)"
   ]
  },
  {
   "cell_type": "code",
   "execution_count": 47,
   "metadata": {},
   "outputs": [
    {
     "data": {
      "text/plain": [
       "{'1': {'mcq': 'Koji je glavni grad Srbije?',\n",
       "  'options': {'a': 'Novi Sad', 'b': 'Beograd', 'c': 'Niš', 'd': 'Kragujevac'},\n",
       "  'correct': 'b'},\n",
       " '2': {'mcq': 'Koji je zvanični jezik u Srbiji?',\n",
       "  'options': {'a': 'hrvatski',\n",
       "   'b': 'mađarski',\n",
       "   'c': 'srpski',\n",
       "   'd': 'engleski'},\n",
       "  'correct': 'c'},\n",
       " '3': {'mcq': 'Koje dve autonomne pokrajine se nalaze u sastavu Srbije?',\n",
       "  'options': {'a': 'Vojvodina i Kosovo',\n",
       "   'b': 'Vojvodina i Raška',\n",
       "   'c': 'Kosovo i Metohija',\n",
       "   'd': 'Kosovo i Sandžak'},\n",
       "  'correct': 'a'},\n",
       " '4': {'mcq': 'Kada je Srbija postala kraljevina?',\n",
       "  'options': {'a': '1217', 'b': '1346', 'c': '1878', 'd': '1882'},\n",
       "  'correct': 'a'},\n",
       " '5': {'mcq': 'Koja je valuta u Srbiji?',\n",
       "  'options': {'a': 'evro', 'b': 'dinara', 'c': 'dolar', 'd': 'forinta'},\n",
       "  'correct': 'b'}}"
      ]
     },
     "execution_count": 47,
     "metadata": {},
     "output_type": "execute_result"
    }
   ],
   "source": [
    "quiz"
   ]
  },
  {
   "cell_type": "code",
   "execution_count": 48,
   "metadata": {},
   "outputs": [],
   "source": [
    "quiz_table_data = []\n",
    "for key, value in quiz.items():\n",
    "    mcq = value[\"mcq\"]\n",
    "    options = \" | \".join(\n",
    "        [\n",
    "            f\"{option}: {option_value}\"\n",
    "            for option, option_value in value[\"options\"].items()\n",
    "        ]\n",
    "    )\n",
    "    correct = value[\"correct\"]\n",
    "    quiz_table_data.append({\"MCQ\": mcq, \"Choices\": options, \"Correct\": correct})"
   ]
  },
  {
   "cell_type": "code",
   "execution_count": 49,
   "metadata": {},
   "outputs": [
    {
     "data": {
      "text/plain": [
       "[{'MCQ': 'Koji je glavni grad Srbije?',\n",
       "  'Choices': 'a: Novi Sad | b: Beograd | c: Niš | d: Kragujevac',\n",
       "  'Correct': 'b'},\n",
       " {'MCQ': 'Koji je zvanični jezik u Srbiji?',\n",
       "  'Choices': 'a: hrvatski | b: mađarski | c: srpski | d: engleski',\n",
       "  'Correct': 'c'},\n",
       " {'MCQ': 'Koje dve autonomne pokrajine se nalaze u sastavu Srbije?',\n",
       "  'Choices': 'a: Vojvodina i Kosovo | b: Vojvodina i Raška | c: Kosovo i Metohija | d: Kosovo i Sandžak',\n",
       "  'Correct': 'a'},\n",
       " {'MCQ': 'Kada je Srbija postala kraljevina?',\n",
       "  'Choices': 'a: 1217 | b: 1346 | c: 1878 | d: 1882',\n",
       "  'Correct': 'a'},\n",
       " {'MCQ': 'Koja je valuta u Srbiji?',\n",
       "  'Choices': 'a: evro | b: dinara | c: dolar | d: forinta',\n",
       "  'Correct': 'b'}]"
      ]
     },
     "execution_count": 49,
     "metadata": {},
     "output_type": "execute_result"
    }
   ],
   "source": [
    "quiz_table_data"
   ]
  },
  {
   "cell_type": "code",
   "execution_count": 50,
   "metadata": {},
   "outputs": [
    {
     "data": {
      "text/html": [
       "<div>\n",
       "<style scoped>\n",
       "    .dataframe tbody tr th:only-of-type {\n",
       "        vertical-align: middle;\n",
       "    }\n",
       "\n",
       "    .dataframe tbody tr th {\n",
       "        vertical-align: top;\n",
       "    }\n",
       "\n",
       "    .dataframe thead th {\n",
       "        text-align: right;\n",
       "    }\n",
       "</style>\n",
       "<table border=\"1\" class=\"dataframe\">\n",
       "  <thead>\n",
       "    <tr style=\"text-align: right;\">\n",
       "      <th></th>\n",
       "      <th>MCQ</th>\n",
       "      <th>Choices</th>\n",
       "      <th>Correct</th>\n",
       "    </tr>\n",
       "  </thead>\n",
       "  <tbody>\n",
       "    <tr>\n",
       "      <th>0</th>\n",
       "      <td>Koji je glavni grad Srbije?</td>\n",
       "      <td>a: Novi Sad | b: Beograd | c: Niš | d: Kragujevac</td>\n",
       "      <td>b</td>\n",
       "    </tr>\n",
       "    <tr>\n",
       "      <th>1</th>\n",
       "      <td>Koji je zvanični jezik u Srbiji?</td>\n",
       "      <td>a: hrvatski | b: mađarski | c: srpski | d: eng...</td>\n",
       "      <td>c</td>\n",
       "    </tr>\n",
       "    <tr>\n",
       "      <th>2</th>\n",
       "      <td>Koje dve autonomne pokrajine se nalaze u sasta...</td>\n",
       "      <td>a: Vojvodina i Kosovo | b: Vojvodina i Raška |...</td>\n",
       "      <td>a</td>\n",
       "    </tr>\n",
       "    <tr>\n",
       "      <th>3</th>\n",
       "      <td>Kada je Srbija postala kraljevina?</td>\n",
       "      <td>a: 1217 | b: 1346 | c: 1878 | d: 1882</td>\n",
       "      <td>a</td>\n",
       "    </tr>\n",
       "    <tr>\n",
       "      <th>4</th>\n",
       "      <td>Koja je valuta u Srbiji?</td>\n",
       "      <td>a: evro | b: dinara | c: dolar | d: forinta</td>\n",
       "      <td>b</td>\n",
       "    </tr>\n",
       "  </tbody>\n",
       "</table>\n",
       "</div>"
      ],
      "text/plain": [
       "                                                 MCQ  \\\n",
       "0                        Koji je glavni grad Srbije?   \n",
       "1                   Koji je zvanični jezik u Srbiji?   \n",
       "2  Koje dve autonomne pokrajine se nalaze u sasta...   \n",
       "3                 Kada je Srbija postala kraljevina?   \n",
       "4                           Koja je valuta u Srbiji?   \n",
       "\n",
       "                                             Choices Correct  \n",
       "0  a: Novi Sad | b: Beograd | c: Niš | d: Kragujevac       b  \n",
       "1  a: hrvatski | b: mađarski | c: srpski | d: eng...       c  \n",
       "2  a: Vojvodina i Kosovo | b: Vojvodina i Raška |...       a  \n",
       "3              a: 1217 | b: 1346 | c: 1878 | d: 1882       a  \n",
       "4        a: evro | b: dinara | c: dolar | d: forinta       b  "
      ]
     },
     "execution_count": 50,
     "metadata": {},
     "output_type": "execute_result"
    }
   ],
   "source": [
    "pd.DataFrame(quiz_table_data)"
   ]
  },
  {
   "cell_type": "code",
   "execution_count": 51,
   "metadata": {},
   "outputs": [],
   "source": [
    "quiz=pd.DataFrame(quiz_table_data)"
   ]
  },
  {
   "cell_type": "code",
   "execution_count": 52,
   "metadata": {},
   "outputs": [],
   "source": [
    "quiz.to_csv(\"srbija.csv\", index=False)"
   ]
  },
  {
   "cell_type": "code",
   "execution_count": null,
   "metadata": {},
   "outputs": [],
   "source": []
  }
 ],
 "metadata": {
  "kernelspec": {
   "display_name": "Python 3",
   "language": "python",
   "name": "python3"
  },
  "language_info": {
   "codemirror_mode": {
    "name": "ipython",
    "version": 3
   },
   "file_extension": ".py",
   "mimetype": "text/x-python",
   "name": "python",
   "nbconvert_exporter": "python",
   "pygments_lexer": "ipython3",
   "version": "3.12.7"
  }
 },
 "nbformat": 4,
 "nbformat_minor": 2
}
